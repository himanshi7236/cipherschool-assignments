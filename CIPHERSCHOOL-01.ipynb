{
 "cells": [
  {
   "cell_type": "code",
   "execution_count": 5,
   "metadata": {},
   "outputs": [
    {
     "name": "stdout",
     "output_type": "stream",
     "text": [
      "original list :[4, 4, 5, 6, 8, 4, 5]\n",
      "after removing duplicates: [8, 4, 5, 6]\n"
     ]
    }
   ],
   "source": [
    "# Q-1\n",
    "test_list=[4,4,5,6,8,4,5]\n",
    "print(\"original list :\" + str(test_list))\n",
    "test_list=list(set(test_list))\n",
    "print(\"after removing duplicates: \" +str(test_list))\n",
    "\n"
   ]
  },
  {
   "cell_type": "code",
   "execution_count": 6,
   "metadata": {},
   "outputs": [
    {
     "name": "stdout",
     "output_type": "stream",
     "text": [
      "(1, 2, 3, 4, 5)\n",
      "5\n",
      "15\n",
      "5\n",
      "1\n"
     ]
    }
   ],
   "source": [
    "# Q-2\n",
    "t=(1,2,3,4,5)\n",
    "print(t)\n",
    "print(len(t))\n",
    "print(sum(t))\n",
    "print(max(t))\n",
    "print(min(t))"
   ]
  },
  {
   "cell_type": "code",
   "execution_count": 7,
   "metadata": {},
   "outputs": [
    {
     "name": "stdout",
     "output_type": "stream",
     "text": [
      "A=[2, 5, 7, 8, 10]\n",
      "B=[5, 4, 9, 8, 6]\n",
      "[2, 4, 5, 5, 6, 7, 8, 8, 9, 10]\n"
     ]
    }
   ],
   "source": [
    "# Q-5\n",
    "list_1=[2,5,7,8,10]\n",
    "print(\"A=\"+str(list_1))\n",
    "list_2=[5,4,9,8,6]\n",
    "print(\"B=\"+str(list_2))\n",
    "print(sorted(list_1+list_2))\n"
   ]
  },
  {
   "cell_type": "code",
   "execution_count": 8,
   "metadata": {},
   "outputs": [
    {
     "name": "stdout",
     "output_type": "stream",
     "text": [
      "enter the number :6\n",
      "0\n"
     ]
    }
   ],
   "source": [
    "# Q-4\n",
    "n=int(input(\"enter the number :\"))\n",
    "print(n%2)"
   ]
  },
  {
   "cell_type": "code",
   "execution_count": 15,
   "metadata": {},
   "outputs": [
    {
     "name": "stdout",
     "output_type": "stream",
     "text": [
      "num:13\n",
      "i:1\n",
      "15\n"
     ]
    }
   ],
   "source": [
    "# Q-3\n",
    "num = int(input('num:'))\n",
    "i=int(input('i:'))\n",
    "mag_num = 1<< i\n",
    "original_num=num|mag_num\n",
    "print(original_num)"
   ]
  },
  {
   "cell_type": "code",
   "execution_count": 17,
   "metadata": {},
   "outputs": [
    {
     "name": "stdout",
     "output_type": "stream",
     "text": [
      "input={'berlin': 70, 'oslo': 0, 'moscow': 50, 'nairobi': 100}\n",
      "output={'oslo': 0, 'moscow': 50, 'berlin': 70, 'nairobi': 100}\n"
     ]
    }
   ],
   "source": [
    "# Q-6\n",
    "students={ 'berlin':70,'oslo':0,'moscow':50,'nairobi':100}\n",
    "print(\"input=\"+str(students))\n",
    "tuple1=(('berlin',70),('oslo',0),('moscow',50),('nairobi',100))\n",
    "y=dict(sorted(tuple1,key=lambda x:x[1]))\n",
    "print(\"output=\"+str(y))"
   ]
  },
  {
   "cell_type": "code",
   "execution_count": null,
   "metadata": {},
   "outputs": [],
   "source": []
  }
 ],
 "metadata": {
  "kernelspec": {
   "display_name": "Python 3",
   "language": "python",
   "name": "python3"
  },
  "language_info": {
   "codemirror_mode": {
    "name": "ipython",
    "version": 3
   },
   "file_extension": ".py",
   "mimetype": "text/x-python",
   "name": "python",
   "nbconvert_exporter": "python",
   "pygments_lexer": "ipython3",
   "version": "3.7.4"
  }
 },
 "nbformat": 4,
 "nbformat_minor": 2
}
